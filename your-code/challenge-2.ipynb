{
 "cells": [
  {
   "cell_type": "markdown",
   "metadata": {},
   "source": [
    "# Challenge 2: Sentiment Analysis\n",
    "\n",
    "In this challenge we will learn sentiment analysis and practice performing sentiment analysis on Twitter tweets. \n",
    "\n",
    "## Introduction\n",
    "\n",
    "Sentiment analysis is to *systematically identify, extract, quantify, and study affective states and subjective information* based on texts ([reference](https://en.wikipedia.org/wiki/Sentiment_analysis)). In simple words, it's to understand whether a person is happy or unhappy in producing the piece of text. Why we (or rather, companies) care about sentiment in texts? It's because by understanding the sentiments in texts, we will be able to know if our customers are happy or unhappy about our products and services. If they are unhappy, the subsequent action is to figure out what have caused the unhappiness and make improvements.\n",
    "\n",
    "Basic sentiment analysis only understands the *positive* or *negative* (sometimes *neutral* too) polarities of the sentiment. More advanced sentiment analysis will also consider dimensions such as agreement, subjectivity, confidence, irony, and so on. In this challenge we will conduct the basic positive vs negative sentiment analysis based on real Twitter tweets.\n",
    "\n",
    "NLTK comes with a [sentiment analysis package](https://www.nltk.org/api/nltk.sentiment.html). This package is great for dummies to perform sentiment analysis because it requires only the textual data to make predictions. For example:\n",
    "\n",
    "```python\n",
    ">>> from nltk.sentiment.vader import SentimentIntensityAnalyzer\n",
    ">>> txt = \"Ironhack is a Global Tech School ranked num 2 worldwide.  ",
    " ",
    "Our mission is to help people transform their careers and join a thriving community of tech professionals that love what they do.\"\n",
    ">>> analyzer = SentimentIntensityAnalyzer()\n",
    ">>> analyzer.polarity_scores(txt)\n",
    "{'neg': 0.0, 'neu': 0.741, 'pos': 0.259, 'compound': 0.8442}\n",
    "```\n",
    "\n",
    "In this challenge, however, you will not use NLTK's sentiment analysis package because in your Machine Learning training in the past 2 weeks you have learned how to make predictions more accurate than that. The [tweets data](https://www.kaggle.com/kazanova/sentiment140) we will be using today are already coded for the positive/negative sentiment. You will be able to use the Naïve Bayes classifier you learned in the lesson to predict the sentiment of tweets based on the labels."
   ]
  },
  {
   "cell_type": "markdown",
   "metadata": {},
   "source": [
    "## Conducting Sentiment Analysis\n",
    "\n",
    "### Loading and Exploring Data\n",
    "\n",
    "The dataset we'll be using today is located on Kaggle (https://www.kaggle.com/kazanova/sentiment140). Once you have downloaded and imported the dataset, it you will need to define the columns names: df.columns = ['target','id','date','flag','user','text']\n",
    "\n",
    "*Notes:* \n",
    "\n",
    "* The dataset is huuuuge (1.6m tweets). When you develop your data analysis codes, you can sample a subset of the data (e.g. 20k records) so that you will save a lot of time when you test your codes."
   ]
  },
  {
   "cell_type": "code",
   "execution_count": 3,
   "metadata": {},
   "outputs": [],
   "source": [
    "import pandas as pd\n",
    "\n",
    "tweeeets = pd.read_csv('C:/Users/a/Google Drive/IRONHACK Data Analysis Bootcamp/8 Unit/8.5 Natural Language Processing NLP/Sentiment140.csv')\n",
    "tweets = tweeeets.sample(20000)"
   ]
  },
  {
   "cell_type": "code",
   "execution_count": 4,
   "metadata": {},
   "outputs": [],
   "source": [
    "tweets.columns = ['target','id','date','flag','user','text']"
   ]
  },
  {
   "cell_type": "code",
   "execution_count": 5,
   "metadata": {},
   "outputs": [
    {
     "data": {
      "text/html": [
       "<div>\n",
       "<style scoped>\n",
       "    .dataframe tbody tr th:only-of-type {\n",
       "        vertical-align: middle;\n",
       "    }\n",
       "\n",
       "    .dataframe tbody tr th {\n",
       "        vertical-align: top;\n",
       "    }\n",
       "\n",
       "    .dataframe thead th {\n",
       "        text-align: right;\n",
       "    }\n",
       "</style>\n",
       "<table border=\"1\" class=\"dataframe\">\n",
       "  <thead>\n",
       "    <tr style=\"text-align: right;\">\n",
       "      <th></th>\n",
       "      <th>target</th>\n",
       "      <th>id</th>\n",
       "      <th>date</th>\n",
       "      <th>flag</th>\n",
       "      <th>user</th>\n",
       "      <th>text</th>\n",
       "    </tr>\n",
       "  </thead>\n",
       "  <tbody>\n",
       "    <tr>\n",
       "      <th>1445966</th>\n",
       "      <td>4</td>\n",
       "      <td>2062448428</td>\n",
       "      <td>Sat Jun 06 23:15:40 PDT 2009</td>\n",
       "      <td>NO_QUERY</td>\n",
       "      <td>hhov</td>\n",
       "      <td>@cappo good good bout to hit the streets ... g...</td>\n",
       "    </tr>\n",
       "    <tr>\n",
       "      <th>406987</th>\n",
       "      <td>0</td>\n",
       "      <td>2059063707</td>\n",
       "      <td>Sat Jun 06 16:10:26 PDT 2009</td>\n",
       "      <td>NO_QUERY</td>\n",
       "      <td>anothrstupidkid</td>\n",
       "      <td>Currently curled up in the fatal position tryi...</td>\n",
       "    </tr>\n",
       "    <tr>\n",
       "      <th>387667</th>\n",
       "      <td>0</td>\n",
       "      <td>2054062040</td>\n",
       "      <td>Sat Jun 06 06:27:33 PDT 2009</td>\n",
       "      <td>NO_QUERY</td>\n",
       "      <td>sonwolf</td>\n",
       "      <td>@hanamaha if only it waz less than $4.99 lol, ...</td>\n",
       "    </tr>\n",
       "    <tr>\n",
       "      <th>847159</th>\n",
       "      <td>4</td>\n",
       "      <td>1564525453</td>\n",
       "      <td>Mon Apr 20 03:54:03 PDT 2009</td>\n",
       "      <td>NO_QUERY</td>\n",
       "      <td>RXTLN</td>\n",
       "      <td>never thought twittering can be this fun!</td>\n",
       "    </tr>\n",
       "  </tbody>\n",
       "</table>\n",
       "</div>"
      ],
      "text/plain": [
       "         target          id                          date      flag  \\\n",
       "1445966       4  2062448428  Sat Jun 06 23:15:40 PDT 2009  NO_QUERY   \n",
       "406987        0  2059063707  Sat Jun 06 16:10:26 PDT 2009  NO_QUERY   \n",
       "387667        0  2054062040  Sat Jun 06 06:27:33 PDT 2009  NO_QUERY   \n",
       "847159        4  1564525453  Mon Apr 20 03:54:03 PDT 2009  NO_QUERY   \n",
       "\n",
       "                    user                                               text  \n",
       "1445966             hhov  @cappo good good bout to hit the streets ... g...  \n",
       "406987   anothrstupidkid  Currently curled up in the fatal position tryi...  \n",
       "387667           sonwolf  @hanamaha if only it waz less than $4.99 lol, ...  \n",
       "847159             RXTLN         never thought twittering can be this fun!   "
      ]
     },
     "execution_count": 5,
     "metadata": {},
     "output_type": "execute_result"
    }
   ],
   "source": [
    "tweets.head(4)"
   ]
  },
  {
   "cell_type": "markdown",
   "metadata": {},
   "source": [
    "### Prepare Textual Data for Sentiment Analysis\n",
    "\n",
    "Now, apply the functions you have written in Challenge 1 to your whole data set. These functions include:\n",
    "\n",
    "* `clean_up()`\n",
    "\n",
    "* `tokenize()`\n",
    "\n",
    "* `stem_and_lemmatize()`\n",
    "\n",
    "* `remove_stopwords()`\n",
    "\n",
    "Create a new column called `text_processed` in the dataframe to contain the processed data. At the end, your `text_processed` column should contain lists of word tokens that are cleaned up. Your data should look like below:\n",
    "\n",
    "![Processed Data](data-cleaning-results.png)"
   ]
  },
  {
   "cell_type": "markdown",
   "metadata": {},
   "source": [
    "### Creating the functions "
   ]
  },
  {
   "cell_type": "code",
   "execution_count": 20,
   "metadata": {},
   "outputs": [
    {
     "name": "stderr",
     "output_type": "stream",
     "text": [
      "[nltk_data] Downloading package punkt to\n",
      "[nltk_data]     C:\\Users\\a\\AppData\\Roaming\\nltk_data...\n",
      "[nltk_data]   Package punkt is already up-to-date!\n",
      "[nltk_data] Downloading package averaged_perceptron_tagger to\n",
      "[nltk_data]     C:\\Users\\a\\AppData\\Roaming\\nltk_data...\n",
      "[nltk_data]   Package averaged_perceptron_tagger is already up-to-\n",
      "[nltk_data]       date!\n",
      "[nltk_data] Downloading package wordnet to\n",
      "[nltk_data]     C:\\Users\\a\\AppData\\Roaming\\nltk_data...\n",
      "[nltk_data]   Package wordnet is already up-to-date!\n",
      "[nltk_data] Downloading package stopwords to\n",
      "[nltk_data]     C:\\Users\\a\\AppData\\Roaming\\nltk_data...\n",
      "[nltk_data]   Package stopwords is already up-to-date!\n"
     ]
    }
   ],
   "source": [
    "import re\n",
    "def clean_up(s):\n",
    "    # Remove numbers\n",
    "    s = re.sub(r'\\d+', '', s)\n",
    "    # Remove URLs\n",
    "    s = re.sub(r'https?:\\/\\/(www\\.)?[-a-zA-Z0-9@:%._\\+~#=]{1,256}\\.[a-zA-Z0-9()]{1,6}\\b([-a-zA-Z0-9()@:%_\\+.~#?&//=]*)', '', s)\n",
    "    # Remove special characters\n",
    "    s = re.sub(r'[^\\w\\s]', ' ', s)\n",
    "    # Remove multiple spaces\n",
    "    s = re.sub(r' +', ' ', s)\n",
    "    # remove whitespaces at the beginning and at the end of the string\n",
    "    s = s.strip()\n",
    "    # convert to lowercase\n",
    "    s = s.lower()\n",
    "    return s\n",
    "\n",
    "import nltk\n",
    "nltk.download('punkt')\n",
    "from nltk.tokenize import word_tokenize\n",
    "\n",
    "def tokenize(s):\n",
    "    words = word_tokenize(s)\n",
    "    return words\n",
    "\n",
    "import nltk\n",
    "from nltk.stem import PorterStemmer, WordNetLemmatizer\n",
    "from nltk import pos_tag\n",
    "nltk.download('averaged_perceptron_tagger')\n",
    "nltk.download('wordnet')\n",
    "\n",
    "def stem_and_lemmatize(words):\n",
    "    stemmer = PorterStemmer()\n",
    "    lemmatizer = WordNetLemmatizer()\n",
    "    pos_tagged_words = nltk.pos_tag(words,lang='eng')\n",
    "    stemmed_words = []\n",
    "    lemmatized_words = []\n",
    "    for word, pos in pos_tagged_words:\n",
    "        pos_tag = pos[0].lower() if pos else 'n'\n",
    "        if pos_tag.startswith('v'):\n",
    "            pos_tag = 'v'\n",
    "        elif pos_tag.startswith('n'):\n",
    "            pos_tag = 'n'\n",
    "        elif pos_tag.startswith('j'):\n",
    "            pos_tag = 'a'\n",
    "        elif pos_tag.startswith('r'):\n",
    "            pos_tag = 'r'\n",
    "        else:\n",
    "            pos_tag = 'n'\n",
    "        stemmed_words.append(stemmer.stem(word))\n",
    "        lemmatized_words.append(lemmatizer.lemmatize(word, pos=pos_tag))\n",
    "    return stemmed_words, lemmatized_words\n",
    "\n",
    "import nltk\n",
    "from nltk.corpus import stopwords\n",
    "nltk.download('stopwords')\n",
    "\n",
    "def remove_stopwords(words, language='english'):\n",
    "    stop_words = set(stopwords.words(language))\n",
    "    filtered_words = [word for word in words if word.lower() not in stop_words]\n",
    "    return filtered_words"
   ]
  },
  {
   "cell_type": "code",
   "execution_count": 21,
   "metadata": {},
   "outputs": [],
   "source": [
    "tweets['text_processed'] = tweets['text'].apply(lambda x: (clean_up(x)))\n",
    "tweets['text_processed'] = tweets['text_processed'].apply(lambda x: (tokenize(x)))\n",
    "tweets['text_processed'] = tweets['text_processed'].apply(lambda x: (stem_and_lemmatize(x)))"
   ]
  },
  {
   "cell_type": "code",
   "execution_count": 15,
   "metadata": {},
   "outputs": [
    {
     "data": {
      "text/html": [
       "<div>\n",
       "<style scoped>\n",
       "    .dataframe tbody tr th:only-of-type {\n",
       "        vertical-align: middle;\n",
       "    }\n",
       "\n",
       "    .dataframe tbody tr th {\n",
       "        vertical-align: top;\n",
       "    }\n",
       "\n",
       "    .dataframe thead th {\n",
       "        text-align: right;\n",
       "    }\n",
       "</style>\n",
       "<table border=\"1\" class=\"dataframe\">\n",
       "  <thead>\n",
       "    <tr style=\"text-align: right;\">\n",
       "      <th></th>\n",
       "      <th>target</th>\n",
       "      <th>id</th>\n",
       "      <th>date</th>\n",
       "      <th>flag</th>\n",
       "      <th>user</th>\n",
       "      <th>text</th>\n",
       "      <th>text_processed</th>\n",
       "    </tr>\n",
       "  </thead>\n",
       "  <tbody>\n",
       "    <tr>\n",
       "      <th>1445966</th>\n",
       "      <td>4</td>\n",
       "      <td>2062448428</td>\n",
       "      <td>Sat Jun 06 23:15:40 PDT 2009</td>\n",
       "      <td>NO_QUERY</td>\n",
       "      <td>hhov</td>\n",
       "      <td>@cappo good good bout to hit the streets ... g...</td>\n",
       "      <td>([cappo, good, good, bout, to, hit, the, stree...</td>\n",
       "    </tr>\n",
       "    <tr>\n",
       "      <th>406987</th>\n",
       "      <td>0</td>\n",
       "      <td>2059063707</td>\n",
       "      <td>Sat Jun 06 16:10:26 PDT 2009</td>\n",
       "      <td>NO_QUERY</td>\n",
       "      <td>anothrstupidkid</td>\n",
       "      <td>Currently curled up in the fatal position tryi...</td>\n",
       "      <td>([current, curl, up, in, the, fatal, posit, tr...</td>\n",
       "    </tr>\n",
       "    <tr>\n",
       "      <th>387667</th>\n",
       "      <td>0</td>\n",
       "      <td>2054062040</td>\n",
       "      <td>Sat Jun 06 06:27:33 PDT 2009</td>\n",
       "      <td>NO_QUERY</td>\n",
       "      <td>sonwolf</td>\n",
       "      <td>@hanamaha if only it waz less than $4.99 lol, ...</td>\n",
       "      <td>([hanamaha, if, onli, it, waz, less, than, lol...</td>\n",
       "    </tr>\n",
       "    <tr>\n",
       "      <th>847159</th>\n",
       "      <td>4</td>\n",
       "      <td>1564525453</td>\n",
       "      <td>Mon Apr 20 03:54:03 PDT 2009</td>\n",
       "      <td>NO_QUERY</td>\n",
       "      <td>RXTLN</td>\n",
       "      <td>never thought twittering can be this fun!</td>\n",
       "      <td>([never, thought, twitter, can, be, thi, fun],...</td>\n",
       "    </tr>\n",
       "    <tr>\n",
       "      <th>1059320</th>\n",
       "      <td>4</td>\n",
       "      <td>1963178968</td>\n",
       "      <td>Fri May 29 12:19:32 PDT 2009</td>\n",
       "      <td>NO_QUERY</td>\n",
       "      <td>BriBri2007</td>\n",
       "      <td>@AllTurdReality no prob!</td>\n",
       "      <td>([allturdr, no, prob], [allturdreality, no, pr...</td>\n",
       "    </tr>\n",
       "  </tbody>\n",
       "</table>\n",
       "</div>"
      ],
      "text/plain": [
       "         target          id                          date      flag  \\\n",
       "1445966       4  2062448428  Sat Jun 06 23:15:40 PDT 2009  NO_QUERY   \n",
       "406987        0  2059063707  Sat Jun 06 16:10:26 PDT 2009  NO_QUERY   \n",
       "387667        0  2054062040  Sat Jun 06 06:27:33 PDT 2009  NO_QUERY   \n",
       "847159        4  1564525453  Mon Apr 20 03:54:03 PDT 2009  NO_QUERY   \n",
       "1059320       4  1963178968  Fri May 29 12:19:32 PDT 2009  NO_QUERY   \n",
       "\n",
       "                    user                                               text  \\\n",
       "1445966             hhov  @cappo good good bout to hit the streets ... g...   \n",
       "406987   anothrstupidkid  Currently curled up in the fatal position tryi...   \n",
       "387667           sonwolf  @hanamaha if only it waz less than $4.99 lol, ...   \n",
       "847159             RXTLN         never thought twittering can be this fun!    \n",
       "1059320       BriBri2007                          @AllTurdReality no prob!    \n",
       "\n",
       "                                            text_processed  \n",
       "1445966  ([cappo, good, good, bout, to, hit, the, stree...  \n",
       "406987   ([current, curl, up, in, the, fatal, posit, tr...  \n",
       "387667   ([hanamaha, if, onli, it, waz, less, than, lol...  \n",
       "847159   ([never, thought, twitter, can, be, thi, fun],...  \n",
       "1059320  ([allturdr, no, prob], [allturdreality, no, pr...  "
      ]
     },
     "execution_count": 15,
     "metadata": {},
     "output_type": "execute_result"
    }
   ],
   "source": [
    "tweets.head(5)"
   ]
  },
  {
   "cell_type": "markdown",
   "metadata": {},
   "source": [
    "### Creating Bag of Words\n",
    "\n",
    "The purpose of this step is to create a [bag of words](https://en.wikipedia.org/wiki/Bag-of-words_model) from the processed data. The bag of words contains all the unique words in your whole text body (a.k.a. *corpus*) with the number of occurrence of each word. It will allow you to understand which words are the most important features across the whole corpus.\n",
    "\n",
    "Also, you can imagine you will have a massive set of words. The less important words (i.e. those of very low number of occurrence) do not contribute much to the sentiment. Therefore, you only need to use the most important words to build your feature set in the next step. In our case, we will use the top 5,000 words with the highest frequency to build the features.\n",
    "\n",
    "In the cell below, combine all the words in `text_processed` and calculate the frequency distribution of all words. A convenient library to calculate the term frequency distribution is NLTK's `FreqDist` class ([documentation](https://www.nltk.org/api/nltk.html#module-nltk.probability)). Then select the top 5,000 words from the frequency distribution."
   ]
  },
  {
   "cell_type": "code",
   "execution_count": null,
   "metadata": {},
   "outputs": [],
   "source": [
    "# your code here"
   ]
  },
  {
   "cell_type": "markdown",
   "metadata": {},
   "source": [
    "### Building Features\n",
    "\n",
    "Now let's build the features. Using the top 5,000 words, create a 2-dimensional matrix to record whether each of those words is contained in each document (tweet). Then you also have an output column to indicate whether the sentiment in each tweet is positive. For example, assuming your bag of words has 5 items (`['one', 'two', 'three', 'four', 'five']`) out of 4 documents (`['A', 'B', 'C', 'D']`), your feature set is essentially:\n",
    "\n",
    "| Doc | one | two | three | four | five | is_positive |\n",
    "|---|---|---|---|---|---|---|\n",
    "| A | True | False | False | True | False | True |\n",
    "| B | False | False | False | True | True | False |\n",
    "| C | False | True | False | False | False | True |\n",
    "| D | True | False | False | False | True | False|\n",
    "\n",
    "However, because the `nltk.NaiveBayesClassifier.train` class we will use in the next step does not work with Pandas dataframe, the structure of your feature set should be converted to the Python list looking like below:\n",
    "\n",
    "```python\n",
    "[\n",
    "\t({\n",
    "\t\t'one': True,\n",
    "\t\t'two': False,\n",
    "\t\t'three': False,\n",
    "\t\t'four': True,\n",
    "\t\t'five': False\n",
    "\t}, True),\n",
    "\t({\n",
    "\t\t'one': False,\n",
    "\t\t'two': False,\n",
    "\t\t'three': False,\n",
    "\t\t'four': True,\n",
    "\t\t'five': True\n",
    "\t}, False),\n",
    "\t({\n",
    "\t\t'one': False,\n",
    "\t\t'two': True,\n",
    "\t\t'three': False,\n",
    "\t\t'four': False,\n",
    "\t\t'five': False\n",
    "\t}, True),\n",
    "\t({\n",
    "\t\t'one': True,\n",
    "\t\t'two': False,\n",
    "\t\t'three': False,\n",
    "\t\t'four': False,\n",
    "\t\t'five': True\n",
    "\t}, False)\n",
    "]\n",
    "```\n",
    "\n",
    "To help you in this step, watch the [following video](https://www.youtube.com/watch?v=-vVskDsHcVc) to learn how to build the feature set with Python and NLTK. The source code in this video can be found [here](https://pythonprogramming.net/words-as-features-nltk-tutorial/)."
   ]
  },
  {
   "cell_type": "markdown",
   "metadata": {},
   "source": [
    "[![Building Features](building-features.jpg)](https://www.youtube.com/watch?v=-vVskDsHcVc)"
   ]
  },
  {
   "cell_type": "code",
   "execution_count": null,
   "metadata": {},
   "outputs": [],
   "source": [
    "# your code here"
   ]
  },
  {
   "cell_type": "markdown",
   "metadata": {},
   "source": [
    "### Building and Traininng Naive Bayes Model\n",
    "\n",
    "In this step you will split your feature set into a training and a test set. Then you will create a Bayes classifier instance using `nltk.NaiveBayesClassifier.train` ([example](https://www.nltk.org/book/ch06.html)) to train with the training dataset.\n",
    "\n",
    "After training the model, call `classifier.show_most_informative_features()` to inspect the most important features. The output will look like:\n",
    "\n",
    "```\n",
    "Most Informative Features\n",
    "\t    snow = True            False : True   =     34.3 : 1.0\n",
    "\t  easter = True            False : True   =     26.2 : 1.0\n",
    "\t headach = True            False : True   =     20.9 : 1.0\n",
    "\t    argh = True            False : True   =     17.6 : 1.0\n",
    "\tunfortun = True            False : True   =     16.9 : 1.0\n",
    "\t    jona = True             True : False  =     16.2 : 1.0\n",
    "\t     ach = True            False : True   =     14.9 : 1.0\n",
    "\t     sad = True            False : True   =     13.0 : 1.0\n",
    "\t  parent = True            False : True   =     12.9 : 1.0\n",
    "\t  spring = True            False : True   =     12.7 : 1.0\n",
    "```\n",
    "\n",
    "The [following video](https://www.youtube.com/watch?v=rISOsUaTrO4) will help you complete this step. The source code in this video can be found [here](https://pythonprogramming.net/naive-bayes-classifier-nltk-tutorial/)."
   ]
  },
  {
   "cell_type": "markdown",
   "metadata": {},
   "source": [
    "[![Building and Training NB](nb-model-building.jpg)](https://www.youtube.com/watch?v=rISOsUaTrO4)"
   ]
  },
  {
   "cell_type": "code",
   "execution_count": 1,
   "metadata": {},
   "outputs": [],
   "source": [
    "# your code here"
   ]
  },
  {
   "cell_type": "markdown",
   "metadata": {},
   "source": [
    "### Testing Naive Bayes Model\n",
    "\n",
    "Now we'll test our classifier with the test dataset. This is done by calling `nltk.classify.accuracy(classifier, test)`.\n",
    "\n",
    "As mentioned in one of the tutorial videos, a Naive Bayes model is considered OK if your accuracy score is over 0.6. If your accuracy score is over 0.7, you've done a great job!"
   ]
  },
  {
   "cell_type": "code",
   "execution_count": null,
   "metadata": {},
   "outputs": [],
   "source": [
    "# your code here"
   ]
  },
  {
   "cell_type": "markdown",
   "metadata": {},
   "source": [
    "## Bonus Question 1: Improve Model Performance\n",
    "\n",
    "If you are still not exhausted so far and want to dig deeper, try to improve your classifier performance. There are many aspects you can dig into, for example:\n",
    "\n",
    "* Improve stemming and lemmatization. Inspect your bag of words and the most important features. Are there any words you should furuther remove from analysis? You can append these words to further remove to the stop words list.\n",
    "\n",
    "* Remember we only used the top 5,000 features to build model? Try using different numbers of top features. The bottom line is to use as few features as you can without compromising your model performance. The fewer features you select into your model, the faster your model is trained. Then you can use a larger sample size to improve your model accuracy score."
   ]
  },
  {
   "cell_type": "code",
   "execution_count": null,
   "metadata": {},
   "outputs": [],
   "source": [
    "# your code here"
   ]
  },
  {
   "cell_type": "markdown",
   "metadata": {},
   "source": [
    "## Bonus Question 2: Machine Learning Pipeline\n",
    "\n",
    "In a new Jupyter Notebook, combine all your codes into a function (or a class). Your new function will execute the complete machine learning pipeline job by receiving the dataset location and output the classifier. This will allow you to use your function to predict the sentiment of any tweet in real time. "
   ]
  },
  {
   "cell_type": "code",
   "execution_count": null,
   "metadata": {},
   "outputs": [],
   "source": [
    "# your code here"
   ]
  },
  {
   "cell_type": "markdown",
   "metadata": {},
   "source": [
    "## Bonus Question 3: Apache Spark\n",
    "\n",
    "If you have completed the Apache Spark advanced topic lab, what you can do is to migrate your pipeline from local to a Databricks Notebook. Share your notebook with your instructor and classmates to show off your achievements!"
   ]
  },
  {
   "cell_type": "code",
   "execution_count": null,
   "metadata": {},
   "outputs": [],
   "source": [
    "# your code here"
   ]
  }
 ],
 "metadata": {
  "kernelspec": {
   "display_name": "Python 3 (ipykernel)",
   "language": "python",
   "name": "python3"
  },
  "language_info": {
   "codemirror_mode": {
    "name": "ipython",
    "version": 3
   },
   "file_extension": ".py",
   "mimetype": "text/x-python",
   "name": "python",
   "nbconvert_exporter": "python",
   "pygments_lexer": "ipython3",
   "version": "3.9.12"
  }
 },
 "nbformat": 4,
 "nbformat_minor": 2
}
